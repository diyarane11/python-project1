{
 "cells": [
  {
   "cell_type": "code",
   "execution_count": 7,
   "id": "d846e628-04b6-4856-8194-d46494c47b9d",
   "metadata": {},
   "outputs": [],
   "source": [
    "import tkinter as tk\n",
    "from tkinter import messagebox\n",
    "\n",
    "# Function to add a task\n",
    "def add_task():\n",
    "    task = entry.get()\n",
    "    if task:\n",
    "        listbox.insert(tk.END, task)\n",
    "        entry.delete(0, tk.END)\n",
    "    else:\n",
    "        messagebox.showwarning(\"Warning\", \"Please enter a task!\")\n",
    "\n",
    "# Function to delete selected task\n",
    "def delete_task():\n",
    "    try:\n",
    "        selected = listbox.curselection()\n",
    "        listbox.delete(selected)\n",
    "    except:\n",
    "        messagebox.showwarning(\"Warning\", \"Please select a task to delete!\")\n",
    "\n",
    "# Create main window\n",
    "root = tk.Tk()\n",
    "root.title(\"To-Do List\")\n",
    "root.geometry(\"400x500\")\n",
    "root.config(bg=\"teal\")\n",
    "\n",
    "# Entry to type a task\n",
    "entry = tk.Entry(root, font=(\"Arial\", 14))\n",
    "entry.pack(pady=10)\n",
    "\n",
    "# Add task button\n",
    "add_btn = tk.Button(root, text=\"Add Task\", command=add_task, bg=\"lightgreen\")\n",
    "add_btn.pack(pady=5)\n",
    "\n",
    "# Listbox to show tasks\n",
    "listbox = tk.Listbox(root, font=(\"Arial\", 12), width=30, height=10)\n",
    "listbox.pack(pady=10)\n",
    "\n",
    "# Delete task button\n",
    "del_btn = tk.Button(root, text=\"Delete Task\", command=delete_task, bg=\"salmon\")\n",
    "del_btn.pack(pady=5)\n",
    "\n",
    "root.mainloop()\n"
   ]
  }
 ],
 "metadata": {
  "kernelspec": {
   "display_name": "Python 3 (ipykernel)",
   "language": "python",
   "name": "python3"
  },
  "language_info": {
   "codemirror_mode": {
    "name": "ipython",
    "version": 3
   },
   "file_extension": ".py",
   "mimetype": "text/x-python",
   "name": "python",
   "nbconvert_exporter": "python",
   "pygments_lexer": "ipython3",
   "version": "3.12.7"
  }
 },
 "nbformat": 4,
 "nbformat_minor": 5
}
